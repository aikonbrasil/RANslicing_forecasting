{
 "cells": [
  {
   "cell_type": "markdown",
   "metadata": {},
   "source": [
    "## Declaring libraries\n",
    "Note: activate the Conda Instance to run PyTorch or similar"
   ]
  },
  {
   "cell_type": "code",
   "execution_count": 1,
   "metadata": {},
   "outputs": [],
   "source": [
    "import torch\n",
    "import torch.nn as nn\n",
    "\n",
    "import seaborn as sns\n",
    "import numpy as np\n",
    "import pandas as pd\n",
    "import matplotlib.pyplot as plt\n",
    "%matplotlib inline"
   ]
  },
  {
   "cell_type": "markdown",
   "metadata": {},
   "source": [
    "## Path of the project\n",
    "Note: Consider this path as the address where the files '2019-04-01_00h_UTC_PMUID01.txt' and '2019-04-01_00h_UTC_PMUID02.txt' are saved."
   ]
  },
  {
   "cell_type": "code",
   "execution_count": 2,
   "metadata": {},
   "outputs": [
    {
     "name": "stdout",
     "output_type": "stream",
     "text": [
      "/home/lut/Desktop/slicing_powersystems\n"
     ]
    }
   ],
   "source": [
    "cd /home/lut/Desktop/slicing_powersystems"
   ]
  },
  {
   "cell_type": "markdown",
   "metadata": {},
   "source": [
    "## Importing micro grid dataset\n",
    "Note: The *.txt information should be formated as numpy.loadtxt() function requires."
   ]
  },
  {
   "cell_type": "code",
   "execution_count": 3,
   "metadata": {},
   "outputs": [],
   "source": [
    "import numpy\n",
    "data1 = numpy.loadtxt('2019-04-01_00h_UTC_PMUID01.txt')\n",
    "data2 = numpy.loadtxt('2019-04-01_00h_UTC_PMUID02.txt')"
   ]
  },
  {
   "cell_type": "markdown",
   "metadata": {},
   "source": [
    "## Saving and plotting dataset information in specific variables"
   ]
  },
  {
   "cell_type": "code",
   "execution_count": 4,
   "metadata": {},
   "outputs": [
    {
     "data": {
      "text/plain": [
       "[<matplotlib.lines.Line2D at 0x7f8c0f465160>]"
      ]
     },
     "execution_count": 4,
     "metadata": {},
     "output_type": "execute_result"
    },
    {
     "data": {
      "image/png": "[encoded data removed]",
      "text/plain": [
       "<Figure size 432x288 with 1 Axes>"
      ]
     },
     "metadata": {
      "needs_background": "light"
     },
     "output_type": "display_data"
    }
   ],
   "source": [
    "size_dataset = 500;\n",
    "mag_VA1 = data1[:size_dataset,6];\n",
    "mag_IA1 = data1[:size_dataset,8];\n",
    "mag_VA2 = data2[:size_dataset,6];\n",
    "mag_IA2 = data2[:size_dataset,8];\n",
    "import matplotlib.pyplot as plt\n",
    "plt.plot(mag_VA1)\n",
    "plt.plot(mag_VA2)"
   ]
  },
  {
   "cell_type": "code",
   "execution_count": 5,
   "metadata": {},
   "outputs": [
    {
     "data": {
      "text/plain": [
       "[<matplotlib.lines.Line2D at 0x7f8c062736d0>]"
      ]
     },
     "execution_count": 5,
     "metadata": {},
     "output_type": "execute_result"
    },
    {
     "data": {
      "image/png": "[encoded data removed]",
      "text/plain": [
       "<Figure size 432x288 with 1 Axes>"
      ]
     },
     "metadata": {
      "needs_background": "light"
     },
     "output_type": "display_data"
    }
   ],
   "source": [
    "plt.plot(mag_IA1)\n",
    "plt.plot(mag_IA2)"
   ]
  },
  {
   "cell_type": "markdown",
   "metadata": {},
   "source": [
    "## Stacking information for each specific PMU\n",
    "Note: for PMU1 we stacked in info1, for PMU2 we stacked in info2"
   ]
  },
  {
   "cell_type": "code",
   "execution_count": 6,
   "metadata": {},
   "outputs": [],
   "source": [
    "info1 = numpy.column_stack([mag_VA1,mag_IA1])\n",
    "info2 = numpy.column_stack([mag_VA2,mag_IA2])"
   ]
  },
  {
   "cell_type": "markdown",
   "metadata": {},
   "source": [
    "## Adding extra column \n",
    "Note: this column will identify the message type. For this specific case M1 and M2"
   ]
  },
  {
   "cell_type": "code",
   "execution_count": 7,
   "metadata": {},
   "outputs": [],
   "source": [
    "unos = numpy.ones(info1.shape[0]);\n",
    "unos = unos.reshape(info1.shape[0],1);\n",
    "label_1 = unos * 1;\n",
    "label_2 = unos * 2;"
   ]
  },
  {
   "cell_type": "code",
   "execution_count": 8,
   "metadata": {},
   "outputs": [],
   "source": [
    "info1 = numpy.column_stack([info1, label_1])\n",
    "info2 = numpy.column_stack([info2, label_2])"
   ]
  },
  {
   "cell_type": "markdown",
   "metadata": {},
   "source": [
    "## Creating elastic dataset\n",
    "Note: Each message sample is static. In a window of 10 samples, some sample slots have information from M1 and in some randomly scenarios (based on uniform probability) the M2 is stacked (specifically in Sample 3, or 5, or 7). In other words: every 10 samples we can add samples in sample frame 3 and/or 5 and/or 7."
   ]
  },
  {
   "cell_type": "code",
   "execution_count": 9,
   "metadata": {},
   "outputs": [],
   "source": [
    "size_iteration = info1.shape[0];\n",
    "dataset = info1[:size_iteration,]*0;\n",
    "index1 = 0;\n",
    "index2 = 0;\n",
    "for ii in range(size_iteration):\n",
    "    \n",
    "    # TO GET A RANDOM GENERATION OF EVENT 2\n",
    "    s = numpy.random.uniform(0,1,1)\n",
    "    if s > 0.5:\n",
    "        step = 3\n",
    "    elif s < 0.75:\n",
    "        step = 5\n",
    "    else:\n",
    "        step = 7\n",
    "        \n",
    "    # Generation of elastic dataset\n",
    "    trigger = numpy.remainder(ii,10);\n",
    "    if trigger==step:\n",
    "        dataset[ii,] = info2[index2,]\n",
    "        index2 = index2 + 1; \n",
    "    else:\n",
    "        dataset[ii,] = info1[index1,]\n",
    "        index1= index1 + 1;  \n",
    "#dataset.shape"
   ]
  },
  {
   "cell_type": "markdown",
   "metadata": {},
   "source": [
    "## Splitting dataset between train and test groups"
   ]
  },
  {
   "cell_type": "code",
   "execution_count": 10,
   "metadata": {},
   "outputs": [
    {
     "name": "stdout",
     "output_type": "stream",
     "text": [
      "450\n",
      "50\n"
     ]
    }
   ],
   "source": [
    "test_data_size = 50;\n",
    "\n",
    "train_data = dataset[:-test_data_size,]\n",
    "#train_data = dataset[:-test_data_size,2]\n",
    "size_train_data = len(train_data)\n",
    "test_data = dataset[-test_data_size:,]\n",
    "#test_data = dataset[-test_data_size:,2]\n",
    "print(len(train_data))\n",
    "print(len(test_data))"
   ]
  },
  {
   "cell_type": "code",
   "execution_count": 11,
   "metadata": {},
   "outputs": [
    {
     "data": {
      "text/plain": [
       "array([[1.21929736e+04, 4.49950743e+00, 1.00000000e+00],\n",
       "       [1.21931064e+04, 4.51186037e+00, 1.00000000e+00]])"
      ]
     },
     "execution_count": 11,
     "metadata": {},
     "output_type": "execute_result"
    }
   ],
   "source": [
    "train_data[:2,:]"
   ]
  },
  {
   "cell_type": "markdown",
   "metadata": {},
   "source": [
    "## Scaling the dataset between -1 and 1\n",
    "Note: It is a kind of normalization of the dataset"
   ]
  },
  {
   "cell_type": "code",
   "execution_count": 12,
   "metadata": {},
   "outputs": [],
   "source": [
    "from sklearn.preprocessing import MinMaxScaler\n",
    "\n",
    "scaler = MinMaxScaler(feature_range=(-1, 1))\n",
    "train_data_normalized = scaler.fit_transform(train_data)\n",
    "#train_data_normalized = scaler.fit_transform(train_data.reshape(-1,1))"
   ]
  },
  {
   "cell_type": "code",
   "execution_count": 13,
   "metadata": {},
   "outputs": [
    {
     "data": {
      "text/plain": [
       "array([[ 0.91429312,  0.93932171, -1.        ],\n",
       "       [ 0.91681173,  0.94533285, -1.        ],\n",
       "       [ 0.90799659,  0.94590714, -1.        ],\n",
       "       [ 0.90084818,  0.94382577, -1.        ],\n",
       "       [ 0.8934405 ,  0.93810909, -1.        ],\n",
       "       [-0.96925812, -0.99699948,  1.        ],\n",
       "       [ 0.88994037,  0.93046719, -1.        ],\n",
       "       [ 0.89277381,  0.92203892, -1.        ],\n",
       "       [ 0.90073706,  0.91830707, -1.        ],\n",
       "       [ 0.9032742 ,  0.91883589, -1.        ]])"
      ]
     },
     "execution_count": 13,
     "metadata": {},
     "output_type": "execute_result"
    }
   ],
   "source": [
    "train_data_normalized[:10,:]"
   ]
  },
  {
   "cell_type": "markdown",
   "metadata": {},
   "source": [
    "## Dataset type converstion to Tensors"
   ]
  },
  {
   "cell_type": "code",
   "execution_count": 14,
   "metadata": {},
   "outputs": [],
   "source": [
    "train_data_normalized_tensor = torch.FloatTensor(train_data_normalized).view(size_train_data,3)\n",
    "#train_data_normalized = torch.FloatTensor(train_data_normalized).view(-1)"
   ]
  },
  {
   "cell_type": "code",
   "execution_count": 15,
   "metadata": {},
   "outputs": [
    {
     "data": {
      "text/plain": [
       "tensor([[ 0.9143,  0.9393, -1.0000],\n",
       "        [ 0.9168,  0.9453, -1.0000],\n",
       "        [ 0.9080,  0.9459, -1.0000],\n",
       "        [ 0.9008,  0.9438, -1.0000],\n",
       "        [ 0.8934,  0.9381, -1.0000],\n",
       "        [-0.9693, -0.9970,  1.0000],\n",
       "        [ 0.8899,  0.9305, -1.0000],\n",
       "        [ 0.8928,  0.9220, -1.0000],\n",
       "        [ 0.9007,  0.9183, -1.0000],\n",
       "        [ 0.9033,  0.9188, -1.0000]])"
      ]
     },
     "execution_count": 15,
     "metadata": {},
     "output_type": "execute_result"
    }
   ],
   "source": [
    "train_data_normalized_tensor[:10,:]"
   ]
  },
  {
   "cell_type": "markdown",
   "metadata": {},
   "source": [
    "## Very important parameter to choose the Training window size\n",
    "Note: This define the size of the buffer to be used in the forecasting of the future samples"
   ]
  },
  {
   "cell_type": "code",
   "execution_count": 16,
   "metadata": {},
   "outputs": [],
   "source": [
    "train_window=20"
   ]
  },
  {
   "cell_type": "markdown",
   "metadata": {},
   "source": [
    "## *Choosing the information to be used as feature information and Label (target) information to be used during the training session"
   ]
  },
  {
   "cell_type": "code",
   "execution_count": 17,
   "metadata": {},
   "outputs": [],
   "source": [
    "def create_inout_sequences(input_data, tw):\n",
    "    inout_seq = []\n",
    "    L = len(input_data)\n",
    "    #L = input_data.shape[0]\n",
    "    for i in range(L-tw):\n",
    "        train_seq = input_data[i:i+tw,:3]\n",
    "        #train_seq = input_data[i:i+tw]\n",
    "        train_label = input_data[i+tw,:3]\n",
    "        #train_label = input_data[i+tw:i+tw+1]\n",
    "        inout_seq.append((train_seq ,train_label))\n",
    "    return inout_seq"
   ]
  },
  {
   "cell_type": "code",
   "execution_count": 18,
   "metadata": {},
   "outputs": [],
   "source": [
    "train_inout_seq = create_inout_sequences(train_data_normalized_tensor, train_window)"
   ]
  },
  {
   "cell_type": "code",
   "execution_count": 19,
   "metadata": {},
   "outputs": [
    {
     "data": {
      "text/plain": [
       "[(tensor([[ 0.9143,  0.9393, -1.0000],\n",
       "          [ 0.9168,  0.9453, -1.0000],\n",
       "          [ 0.9080,  0.9459, -1.0000],\n",
       "          [ 0.9008,  0.9438, -1.0000],\n",
       "          [ 0.8934,  0.9381, -1.0000],\n",
       "          [-0.9693, -0.9970,  1.0000],\n",
       "          [ 0.8899,  0.9305, -1.0000],\n",
       "          [ 0.8928,  0.9220, -1.0000],\n",
       "          [ 0.9007,  0.9183, -1.0000],\n",
       "          [ 0.9033,  0.9188, -1.0000],\n",
       "          [ 0.9028,  0.9253, -1.0000],\n",
       "          [ 0.8967,  0.9272, -1.0000],\n",
       "          [ 0.8921,  0.9234, -1.0000],\n",
       "          [ 0.8952,  0.9223, -1.0000],\n",
       "          [ 0.9036,  0.9172, -1.0000],\n",
       "          [-0.9695, -0.9977,  1.0000],\n",
       "          [ 0.9052,  0.8872, -1.0000],\n",
       "          [ 0.8852,  0.8628, -1.0000],\n",
       "          [ 0.8886,  0.8650, -1.0000],\n",
       "          [ 0.8894,  0.8665, -1.0000]]),\n",
       "  tensor([ 0.8832,  0.8625, -1.0000])),\n",
       " (tensor([[ 0.9168,  0.9453, -1.0000],\n",
       "          [ 0.9080,  0.9459, -1.0000],\n",
       "          [ 0.9008,  0.9438, -1.0000],\n",
       "          [ 0.8934,  0.9381, -1.0000],\n",
       "          [-0.9693, -0.9970,  1.0000],\n",
       "          [ 0.8899,  0.9305, -1.0000],\n",
       "          [ 0.8928,  0.9220, -1.0000],\n",
       "          [ 0.9007,  0.9183, -1.0000],\n",
       "          [ 0.9033,  0.9188, -1.0000],\n",
       "          [ 0.9028,  0.9253, -1.0000],\n",
       "          [ 0.8967,  0.9272, -1.0000],\n",
       "          [ 0.8921,  0.9234, -1.0000],\n",
       "          [ 0.8952,  0.9223, -1.0000],\n",
       "          [ 0.9036,  0.9172, -1.0000],\n",
       "          [-0.9695, -0.9977,  1.0000],\n",
       "          [ 0.9052,  0.8872, -1.0000],\n",
       "          [ 0.8852,  0.8628, -1.0000],\n",
       "          [ 0.8886,  0.8650, -1.0000],\n",
       "          [ 0.8894,  0.8665, -1.0000],\n",
       "          [ 0.8832,  0.8625, -1.0000]]),\n",
       "  tensor([ 0.8852,  0.8636, -1.0000]))]"
      ]
     },
     "execution_count": 19,
     "metadata": {},
     "output_type": "execute_result"
    }
   ],
   "source": [
    "train_inout_seq[:2]"
   ]
  },
  {
   "cell_type": "markdown",
   "metadata": {},
   "source": [
    "## Deep Learning Architecture\n",
    "Note: Here we choose the number of hidden layers, size of input dataset, size of output. In this particular case we use the LSTM scheme."
   ]
  },
  {
   "cell_type": "code",
   "execution_count": 20,
   "metadata": {},
   "outputs": [],
   "source": [
    "class LSTM(nn.Module):\n",
    "    def __init__(self, input_size=3, hidden_layer_size=100, output_size=3):\n",
    "        super().__init__()\n",
    "        self.hidden_layer_size = hidden_layer_size\n",
    "\n",
    "        self.lstm = nn.LSTM(input_size, hidden_layer_size)\n",
    "\n",
    "        self.linear = nn.Linear(hidden_layer_size, output_size)\n",
    "\n",
    "        self.hidden_cell = (torch.zeros(3,1,self.hidden_layer_size),\n",
    "                            torch.zeros(1,1,self.hidden_layer_size))\n",
    "\n",
    "    def forward(self, input_seq):\n",
    "        lstm_out, self.hidden_cell = self.lstm(input_seq.view(len(input_seq) ,1, -1), self.hidden_cell)\n",
    "        predictions = self.linear(lstm_out.view(len(input_seq), -1))\n",
    "        return predictions[-1]"
   ]
  },
  {
   "cell_type": "code",
   "execution_count": 21,
   "metadata": {},
   "outputs": [],
   "source": [
    "model = LSTM()\n",
    "loss_function = nn.MSELoss()\n",
    "optimizer = torch.optim.Adam(model.parameters(), lr=0.001)"
   ]
  },
  {
   "cell_type": "code",
   "execution_count": 22,
   "metadata": {},
   "outputs": [
    {
     "name": "stdout",
     "output_type": "stream",
     "text": [
      "LSTM(\n",
      "  (lstm): LSTM(3, 100)\n",
      "  (linear): Linear(in_features=100, out_features=3, bias=True)\n",
      ")\n"
     ]
    }
   ],
   "source": [
    "print(model)"
   ]
  },
  {
   "cell_type": "markdown",
   "metadata": {},
   "source": [
    "## TRAINING SESSION\n",
    "Note: here we can choose the number of Epochs to be used during training"
   ]
  },
  {
   "cell_type": "code",
   "execution_count": 23,
   "metadata": {},
   "outputs": [
    {
     "name": "stderr",
     "output_type": "stream",
     "text": [
      "/home/lut/.conda/envs/cnn/lib/python3.8/site-packages/torch/autograd/__init__.py:130: UserWarning: CUDA initialization: Found no NVIDIA driver on your system. Please check that you have an NVIDIA GPU and installed a driver from http://www.nvidia.com/Download/index.aspx (Triggered internally at  /opt/conda/conda-bld/pytorch_1607370172916/work/c10/cuda/CUDAFunctions.cpp:100.)\n",
      "  Variable._execution_engine.run_backward(\n"
     ]
    },
    {
     "name": "stdout",
     "output_type": "stream",
     "text": [
      "epoch:   1 loss: 0.02439561\n",
      "epoch:  26 loss: 0.00221120\n",
      "epoch:  51 loss: 0.00157986\n",
      "epoch:  76 loss: 0.00092385\n",
      "epoch: 101 loss: 0.00647602\n",
      "epoch: 126 loss: 0.00139532\n",
      "epoch: 149 loss: 0.0024290304\n"
     ]
    }
   ],
   "source": [
    "epochs = 150\n",
    "\n",
    "for i in range(epochs):\n",
    "    for seq, labels in train_inout_seq:\n",
    "        optimizer.zero_grad()\n",
    "        model.hidden_cell = (torch.zeros(1, 1, model.hidden_layer_size),\n",
    "                        torch.zeros(1, 1, model.hidden_layer_size))\n",
    "\n",
    "        y_pred = model(seq)\n",
    "\n",
    "        single_loss = loss_function(y_pred, labels)\n",
    "        single_loss.backward()\n",
    "        optimizer.step()\n",
    "\n",
    "    if i%25 == 1:\n",
    "        print(f'epoch: {i:3} loss: {single_loss.item():10.8f}')\n",
    "\n",
    "print(f'epoch: {i:3} loss: {single_loss.item():10.10f}')"
   ]
  },
  {
   "cell_type": "code",
   "execution_count": 24,
   "metadata": {},
   "outputs": [
    {
     "data": {
      "text/plain": [
       "[(tensor([[ 0.9143,  0.9393, -1.0000],\n",
       "          [ 0.9168,  0.9453, -1.0000],\n",
       "          [ 0.9080,  0.9459, -1.0000],\n",
       "          [ 0.9008,  0.9438, -1.0000],\n",
       "          [ 0.8934,  0.9381, -1.0000],\n",
       "          [-0.9693, -0.9970,  1.0000],\n",
       "          [ 0.8899,  0.9305, -1.0000],\n",
       "          [ 0.8928,  0.9220, -1.0000],\n",
       "          [ 0.9007,  0.9183, -1.0000],\n",
       "          [ 0.9033,  0.9188, -1.0000],\n",
       "          [ 0.9028,  0.9253, -1.0000],\n",
       "          [ 0.8967,  0.9272, -1.0000],\n",
       "          [ 0.8921,  0.9234, -1.0000],\n",
       "          [ 0.8952,  0.9223, -1.0000],\n",
       "          [ 0.9036,  0.9172, -1.0000],\n",
       "          [-0.9695, -0.9977,  1.0000],\n",
       "          [ 0.9052,  0.8872, -1.0000],\n",
       "          [ 0.8852,  0.8628, -1.0000],\n",
       "          [ 0.8886,  0.8650, -1.0000],\n",
       "          [ 0.8894,  0.8665, -1.0000]]),\n",
       "  tensor([ 0.8832,  0.8625, -1.0000])),\n",
       " (tensor([[ 0.9168,  0.9453, -1.0000],\n",
       "          [ 0.9080,  0.9459, -1.0000],\n",
       "          [ 0.9008,  0.9438, -1.0000],\n",
       "          [ 0.8934,  0.9381, -1.0000],\n",
       "          [-0.9693, -0.9970,  1.0000],\n",
       "          [ 0.8899,  0.9305, -1.0000],\n",
       "          [ 0.8928,  0.9220, -1.0000],\n",
       "          [ 0.9007,  0.9183, -1.0000],\n",
       "          [ 0.9033,  0.9188, -1.0000],\n",
       "          [ 0.9028,  0.9253, -1.0000],\n",
       "          [ 0.8967,  0.9272, -1.0000],\n",
       "          [ 0.8921,  0.9234, -1.0000],\n",
       "          [ 0.8952,  0.9223, -1.0000],\n",
       "          [ 0.9036,  0.9172, -1.0000],\n",
       "          [-0.9695, -0.9977,  1.0000],\n",
       "          [ 0.9052,  0.8872, -1.0000],\n",
       "          [ 0.8852,  0.8628, -1.0000],\n",
       "          [ 0.8886,  0.8650, -1.0000],\n",
       "          [ 0.8894,  0.8665, -1.0000],\n",
       "          [ 0.8832,  0.8625, -1.0000]]),\n",
       "  tensor([ 0.8852,  0.8636, -1.0000]))]"
      ]
     },
     "execution_count": 24,
     "metadata": {},
     "output_type": "execute_result"
    }
   ],
   "source": [
    "train_inout_seq[0:2]"
   ]
  },
  {
   "cell_type": "markdown",
   "metadata": {},
   "source": [
    "## Using the Trained Model\n",
    "Note: based on the trainning model, we evaluate the Neural Network using the same dataset uset for training. Our main target is to generate metrics to quantify the resources that the model will evaluate and compare it with the original resources in each original sample time."
   ]
  },
  {
   "cell_type": "code",
   "execution_count": 25,
   "metadata": {},
   "outputs": [],
   "source": [
    "fut_pred = 40\n",
    "size_prediction = fut_pred\n",
    "#test_inputs = train_data_normalized[-train_window:].tolist()\n",
    "#test_inputs = train_data_normalized[-2*train_window:-1*train_window]\n",
    "\n",
    "test_inputs = train_inout_seq[-size_prediction:]\n",
    "#test_inputs = train_data_normalized[-size_prediction:,]\n",
    "\n",
    "#print(test_inputs[0:20])\n",
    "\n",
    "#train_data1 = train_data[-size_prediction:,]\n",
    "\n",
    "#train_data_normalizedd = scaler.fit_transform(train_data1)\n",
    "\n",
    "#train_data_normalized_tensorr = torch.FloatTensor(train_data_normalizedd).view(size_prediction,3)\n",
    "\n"
   ]
  },
  {
   "cell_type": "code",
   "execution_count": 26,
   "metadata": {},
   "outputs": [
    {
     "name": "stdout",
     "output_type": "stream",
     "text": [
      "[-0.973568320274353, -0.7177956104278564, -0.763137698173523, -0.8170309662818909, -0.9987043142318726, -0.9771084189414978, -1.0080021619796753, -1.0030542612075806, -0.9926549792289734, -0.9824007749557495, -0.9741482734680176, -0.9687149524688721, -0.966277003288269, -0.9656053781509399, -1.1083990335464478, 0.19995173811912537, -0.5187618732452393, -0.33291468024253845, -0.6286599636077881, -0.9416453838348389, -0.9852437973022461, -0.8916091322898865, -1.0456880331039429, -0.8854954838752747, -1.0754499435424805, -0.3069031536579132, 0.15225616097450256, -0.06639017909765244, -0.5335875749588013, -0.8372198343276978, -0.9479373693466187, -0.8417744636535645, -1.0182613134384155, -0.9326927661895752, -0.9936457872390747, -0.18515124917030334, 0.1678101122379303, -0.48309755325317383, -0.33661970496177673, -0.9628450274467468]\n"
     ]
    }
   ],
   "source": [
    "model.eval()\n",
    "\n",
    "#train_data_normalized = torch.FloatTensor(train_data_normalized).view(size_train_data,3)\n",
    " #train_seq = input_data[i:i+tw,:3]\n",
    "prediction = [];\n",
    "for i in range(fut_pred):\n",
    "    #seq1 = torch.FloatTensor(test_inputs).view(train_window,3)\n",
    "    seq = test_inputs[i][0]\n",
    "    #seq = seq1[:train_window,:3]\n",
    "    #seq = torch.FloatTensor(test_inputs[-size_prediction:,])\n",
    "    with torch.no_grad():\n",
    "        model.hidden = (torch.zeros(3, 1, model.hidden_layer_size),\n",
    "                        torch.zeros(1, 1, model.hidden_layer_size))\n",
    "        #test_inputs.append(model(seq))\n",
    "        #np.concatenate((test_inputs,model(seq)))\n",
    "     #   print(test_inputs)\n",
    "        output = model(seq);\n",
    "        prediction.append(output[2].item())\n",
    "        #print(output[2])\n",
    "        #print(output)\n",
    "      #  vector_output = [model(seq)[0].item(), model(seq)[1].item(), model(seq)[2].item()]\n",
    "      #  vec = numpy.array(vector_output).reshape(1,-1)\n",
    "      #  test_inputs = np.concatenate((test_inputs,vec))\n",
    "    \n",
    "      #  print(vector_output)\n",
    "        #np.concatenate((test_inputs,vector_output))\n",
    "        \n",
    "     #   print(test_inputs.shape)\n",
    "        #model(seq).item()\n",
    "       # test_inputs.append(model(seq).item())\n",
    "        #print(model(seq).item())\n",
    "print(prediction)      "
   ]
  },
  {
   "cell_type": "code",
   "execution_count": null,
   "metadata": {},
   "outputs": [],
   "source": []
  },
  {
   "cell_type": "code",
   "execution_count": 27,
   "metadata": {},
   "outputs": [],
   "source": [
    "#t=test_inputs[0];\n",
    "#t[1]\n"
   ]
  },
  {
   "cell_type": "markdown",
   "metadata": {},
   "source": [
    "## Re-scaling the predicted information\n",
    "Note: we rescale the information between -1 and 1. After that we consider a hard decission scheme to get the label values for each Message type."
   ]
  },
  {
   "cell_type": "code",
   "execution_count": 28,
   "metadata": {},
   "outputs": [
    {
     "name": "stdout",
     "output_type": "stream",
     "text": [
      "[1. 1. 1. 1. 1. 1. 1. 1. 1. 1. 1. 1. 1. 1. 1. 2. 1. 1. 1. 1. 1. 1. 1. 1.\n",
      " 1. 1. 2. 1. 1. 1. 1. 1. 1. 1. 1. 1. 2. 1. 1. 1.]\n"
     ]
    }
   ],
   "source": [
    "prediction = numpy.array(prediction)\n",
    "prediction = prediction.reshape(fut_pred,1)\n",
    "\n",
    "prediction_full = numpy.column_stack([prediction,prediction, prediction])\n",
    "\n",
    "#prediction_full_tensor = torch.FloatTensor(prediction_full).view(size_prediction,3)\n",
    "\n",
    "actual_prediction = scaler.inverse_transform(prediction_full)\n",
    "\n",
    "for i in range(size_prediction):\n",
    "    if actual_prediction[i,2]>1.5:\n",
    "        actual_prediction[i,2] = 2\n",
    "    else:\n",
    "        actual_prediction[i,2] = 1\n",
    "        \n",
    "prediction = actual_prediction[:,2];\n",
    "print(prediction)\n",
    "#for ii in range(10):\n",
    "#    train_data_normalized[ii,2] = float(prediction[ii])\n",
    "\n",
    "#actual_predictions = scaler.inverse_transform(train_data_normalized[1:10,])\n",
    "#print(actual_predictions)\n",
    "\n",
    "#print(train_data_normalized[0:20,])"
   ]
  },
  {
   "cell_type": "code",
   "execution_count": 29,
   "metadata": {},
   "outputs": [
    {
     "name": "stdout",
     "output_type": "stream",
     "text": [
      "[1. 1. 1. 1. 1. 1. 1. 1. 1. 1. 1. 1. 1. 2. 1. 2. 1. 1. 1. 1. 1. 1. 1. 1.\n",
      " 1. 1. 1. 1. 1. 1. 1. 1. 1. 2. 1. 1. 1. 1. 1. 1.]\n"
     ]
    }
   ],
   "source": [
    "# Real Data\n",
    "real_data = train_data[-size_prediction:,2]\n",
    "print(real_data)"
   ]
  },
  {
   "cell_type": "markdown",
   "metadata": {},
   "source": [
    "## Error analysis \n",
    "Note: we compare the difference between predicted information and original information. 1 --> M1 and 2 --> M2"
   ]
  },
  {
   "cell_type": "code",
   "execution_count": 30,
   "metadata": {},
   "outputs": [
    {
     "name": "stdout",
     "output_type": "stream",
     "text": [
      "0.1\n"
     ]
    }
   ],
   "source": [
    "error = np.abs(real_data - prediction)\n",
    "print(np.sum(error)/size_prediction)\n",
    "#print(np.sum(error))"
   ]
  },
  {
   "cell_type": "code",
   "execution_count": 31,
   "metadata": {},
   "outputs": [],
   "source": [
    "#Slices vs Violation    #Slices vs Resource Utilization"
   ]
  },
  {
   "cell_type": "code",
   "execution_count": 32,
   "metadata": {},
   "outputs": [],
   "source": [
    "# System utilization evaluation vs ???\n",
    "# Efficiency using resources\n",
    "# Evaluation Sections"
   ]
  },
  {
   "cell_type": "code",
   "execution_count": null,
   "metadata": {},
   "outputs": [],
   "source": []
  },
  {
   "cell_type": "code",
   "execution_count": null,
   "metadata": {},
   "outputs": [],
   "source": []
  },
  {
   "cell_type": "code",
   "execution_count": null,
   "metadata": {},
   "outputs": [],
   "source": []
  }
 ],
 "metadata": {
  "kernelspec": {
   "display_name": "CNN",
   "language": "python",
   "name": "cnn"
  },
  "language_info": {
   "codemirror_mode": {
    "name": "ipython",
    "version": 3
   },
   "file_extension": ".py",
   "mimetype": "text/x-python",
   "name": "python",
   "nbconvert_exporter": "python",
   "pygments_lexer": "ipython3",
   "version": "3.8.5"
  }
 },
 "nbformat": 4,
 "nbformat_minor": 4
}
